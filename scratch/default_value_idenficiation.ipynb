{
 "cells": [
  {
   "cell_type": "code",
   "execution_count": 66,
   "metadata": {},
   "outputs": [],
   "source": [
    "import pandas as pd\n",
    "from sklearn.linear_model import LogisticRegression\n",
    "from sklearn.model_selection import cross_validate, cross_val_score\n",
    "from sklearn.metrics import balanced_accuracy_score, make_scorer\n",
    "from sklearn.datasets import load_iris\n",
    "from sklearn.model_selection import train_test_split\n",
    "from sklearn.metrics import confusion_matrix, ConfusionMatrixDisplay\n",
    "from sklearn.pipeline import make_pipeline\n",
    "import numpy as np\n",
    "from skpsl.preprocessing import MinEntropyBinarizer\n",
    "from skpsl.estimators import MultinomialScoringList\n",
    "from matplotlib import pyplot as plt\n",
    "\n",
    "\n",
    "from ConfigSpace import Configuration, ConfigurationSpace\n",
    "from smac import HyperparameterOptimizationFacade, Scenario"
   ]
  },
  {
   "cell_type": "code",
   "execution_count": 67,
   "metadata": {},
   "outputs": [],
   "source": [
    "df = pd.read_csv(\"data/player_processed.csv\")\n",
    "X = df.iloc[:,1:]\n",
    "y = df.iloc[:,0]"
   ]
  },
  {
   "cell_type": "code",
   "execution_count": 71,
   "metadata": {},
   "outputs": [],
   "source": [
    "def evaluate(config: Configuration, seed: int=0) -> float:\n",
    "    args = dict(config)\n",
    "    args[\"crossover_type\"] = str(args[\"crossover_type\"])\n",
    "    score_set = set(args.pop(\"score_set\"))\n",
    "    ga_params = args\n",
    "    clf = MultinomialScoringList(score_set=score_set, ga_params=ga_params, random_state=seed).fit(X,y)\n",
    "    return clf.score(X,y)"
   ]
  },
  {
   "cell_type": "code",
   "execution_count": 72,
   "metadata": {},
   "outputs": [],
   "source": [
    "cs = ConfigurationSpace({\"popsize\":(10,50),\"crossover_type\":[\"single_point\", \"two_points\", \"uniform\", \"scattered\"],\"parents_mating\":(2,10), \"maxiter\":[250],\"score_set\":[[-3,-2,-1,1,2,3]]})"
   ]
  },
  {
   "cell_type": "code",
   "execution_count": 73,
   "metadata": {},
   "outputs": [
    {
     "name": "stderr",
     "output_type": "stream",
     "text": [
      "/home/jonas/Documents/Research/msl/scikit-psl/.venv/lib/python3.11/site-packages/pygad/pygad.py:1139: UserWarning: The 'delay_after_gen' parameter is deprecated starting from PyGAD 3.3.0. To delay or pause the evolution after each generation, assign a callback function/method to the 'on_generation' parameter to adds some time delay.\n",
      "  warnings.warn(\"The 'delay_after_gen' parameter is deprecated starting from PyGAD 3.3.0. To delay or pause the evolution after each generation, assign a callback function/method to the 'on_generation' parameter to adds some time delay.\")\n"
     ]
    },
    {
     "data": {
      "text/plain": [
       "7.29410135696483"
      ]
     },
     "execution_count": 73,
     "metadata": {},
     "output_type": "execute_result"
    }
   ],
   "source": [
    "evaluate(cs.sample_configuration())"
   ]
  },
  {
   "cell_type": "code",
   "execution_count": null,
   "metadata": {},
   "outputs": [],
   "source": [
    "scenario = Scenario(cs, deterministic=True, n_trials=200)"
   ]
  },
  {
   "cell_type": "code",
   "execution_count": null,
   "metadata": {},
   "outputs": [
    {
     "name": "stdout",
     "output_type": "stream",
     "text": [
      "[INFO][abstract_initial_design.py:147] Using 50 initial design configurations and 0 additional configurations.\n"
     ]
    }
   ],
   "source": [
    "smac = HyperparameterOptimizationFacade(scenario, evaluate)"
   ]
  }
 ],
 "metadata": {
  "kernelspec": {
   "display_name": ".venv",
   "language": "python",
   "name": "python3"
  },
  "language_info": {
   "codemirror_mode": {
    "name": "ipython",
    "version": 3
   },
   "file_extension": ".py",
   "mimetype": "text/x-python",
   "name": "python",
   "nbconvert_exporter": "python",
   "pygments_lexer": "ipython3",
   "version": "3.11.5"
  }
 },
 "nbformat": 4,
 "nbformat_minor": 2
}
